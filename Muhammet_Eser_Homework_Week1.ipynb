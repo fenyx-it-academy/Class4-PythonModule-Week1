{
 "cells": [
  {
   "cell_type": "markdown",
   "metadata": {},
   "source": [
    "# 1-Rock-Paper-Scissors\n",
    "Oyuncularin adlarini alip tas - kagit - makas oyunu oynatiniz. Oyun 10 el surecektir. 10 el sonunda kazanan belli olacaktir. Skor sonucta gosterilecektir."
   ]
  },
  {
   "cell_type": "code",
   "execution_count": 28,
   "metadata": {},
   "outputs": [
    {
     "name": "stdout",
     "output_type": "stream",
     "text": [
      "TAS-MAKAS-KAGIT oyunumuza hosgeldiniz.\n",
      "Lutfen oyuncu isimlerini giriniz.\n",
      "Oyuncu 1 : Ahmet\n",
      "Oyuncu 2 : Mehmet\n",
      "Lutfen siraniz geldiginde seciminizi yapiniz\n",
      "TAS icin t`yi secip ENTER a basin\n",
      "MAKAS icin m`yi secip ENTER a basin\n",
      "KAGIT icin k`yi secip ENTER a basin\n",
      "Ahmet, lutfen secimini yap (t,k,m) : t\n",
      "Mehmet, lutfen secimini yap (t,k,m) : k\n",
      "Bu eli Mehmet kazandi\n",
      "Ahmet, lutfen secimini yap (t,k,m) : k\n",
      "Mehmet, lutfen secimini yap (t,k,m) : m\n",
      "Bu eli Mehmet kazandi\n",
      "Ahmet, lutfen secimini yap (t,k,m) : t\n",
      "Mehmet, lutfen secimini yap (t,k,m) : m\n",
      "Bu eli Ahmet kazandi\n",
      "Ahmet, lutfen secimini yap (t,k,m) : m\n",
      "Mehmet, lutfen secimini yap (t,k,m) : k\n",
      "Bu eli Ahmet kazandi\n",
      "Ahmet, lutfen secimini yap (t,k,m) : k\n",
      "Mehmet, lutfen secimini yap (t,k,m) : k\n",
      "Kimse kazanamadi\n",
      "Ahmet, lutfen secimini yap (t,k,m) : t\n",
      "Mehmet, lutfen secimini yap (t,k,m) : m\n",
      "Bu eli Ahmet kazandi\n",
      "Ahmet, lutfen secimini yap (t,k,m) : t\n",
      "Mehmet, lutfen secimini yap (t,k,m) : k\n",
      "Bu eli Mehmet kazandi\n",
      "Ahmet, lutfen secimini yap (t,k,m) : k\n",
      "Mehmet, lutfen secimini yap (t,k,m) : t\n",
      "Bu eli Ahmet kazandi\n",
      "Ahmet, lutfen secimini yap (t,k,m) : m\n",
      "Mehmet, lutfen secimini yap (t,k,m) : k\n",
      "Bu eli Ahmet kazandi\n",
      "Ahmet, lutfen secimini yap (t,k,m) : m\n",
      "Mehmet, lutfen secimini yap (t,k,m) : m\n",
      "Kimse kazanamadi\n",
      "-----SONUC-----\n",
      "Ahmet : 5 \n",
      "Mehmet : 3 \n",
      "Ahmet kazandi.\n"
     ]
    }
   ],
   "source": [
    "print(\"TAS-MAKAS-KAGIT oyunumuza hosgeldiniz.\")\n",
    "\n",
    "print(\"Lutfen oyuncu isimlerini giriniz.\")\n",
    "\n",
    "x = input(\"Oyuncu 1 : \")\n",
    "y = input(\"Oyuncu 2 : \")\n",
    "\n",
    "print(\"Lutfen siraniz geldiginde seciminizi yapiniz\")\n",
    "print(\"TAS icin t`yi secip ENTER a basin\")\n",
    "print(\"MAKAS icin m`yi secip ENTER a basin\")\n",
    "print(\"KAGIT icin k`yi secip ENTER a basin\")\n",
    "\n",
    "skor_x = 0\n",
    "skor_y = 0\n",
    "\n",
    "i = 0\n",
    "\n",
    "for i in range(10):\n",
    "    a = str(input(\"{}, lutfen secimini yap (t,k,m) : \".format(x)))\n",
    "    b = str(input(\"{}, lutfen secimini yap (t,k,m) : \".format(y)))\n",
    "    i += 1\n",
    "    \n",
    "    if a == \"t\" :\n",
    "        if b == \"t\" :\n",
    "            print(\"Kimse kazanamadi\")\n",
    "        elif b == \"m\" :\n",
    "            print(\"Bu eli {} kazandi\".format(x))\n",
    "            skor_x += 1\n",
    "        else:\n",
    "            print(\"Bu eli {} kazandi\".format(y))\n",
    "            skor_y += 1\n",
    "    elif a == \"m\":\n",
    "        if b == \"m\":\n",
    "            print(\"Kimse kazanamadi\")\n",
    "        elif b == \"k\":\n",
    "            print(\"Bu eli {} kazandi\".format(x))\n",
    "            skor_x += 1\n",
    "        else:\n",
    "            print(\"Bu eli {} kazandi\".format(y))\n",
    "            skor_y += 1\n",
    "    if a == \"k\":\n",
    "        if b == \"k\" :\n",
    "            print(\"Kimse kazanamadi\")\n",
    "        elif b == \"t\" :\n",
    "            print(\"Bu eli {} kazandi\".format(x))\n",
    "            skor_x += 1\n",
    "        else:\n",
    "            print(\"Bu eli {} kazandi\".format(y))\n",
    "            skor_y += 1\n",
    "\n",
    "print(\"-----SONUC-----\")\n",
    "print(\"{} : {} \".format(x,skor_x))\n",
    "print(\"{} : {} \".format(y,skor_y))\n",
    "      \n",
    "if skor_x > skor_y:\n",
    "      print(\"{} kazandi.\".format(x))\n",
    "      \n",
    "elif skor_y > skor_x:\n",
    "      print(\"{} oyunu kazandi.\".format(y))\n",
    "      \n",
    "else:\n",
    "      print(\"Berabere kaldiniz\")"
   ]
  },
  {
   "cell_type": "markdown",
   "metadata": {},
   "source": [
    "# 2- Ders Puani Hesaplama\n",
    "Kullanıcıdan Adi, Soyadi, Ogrenci Numarasi, 4 ders adi, bu derslerin Vize ve Final notlari istenecektir. Vize notunun % 40′ı ile Final Notunun %60′ınin toplamı yil sonu ortalamasini verecektir. Ortalama 50‘den küçükse ekranda “KALDI“, 50 ve üstüyse ekranda “GEÇTİ” yazdırılacaktır. Bu yazdirma islemi 4 ders icinde yapilacak ve dersler alt alta yazdirilacaktir."
   ]
  },
  {
   "cell_type": "code",
   "execution_count": 31,
   "metadata": {},
   "outputs": [
    {
     "name": "stdout",
     "output_type": "stream",
     "text": [
      "Adiniz : Ahmet\n",
      "Soyadiniz : Ergun\n",
      "Ogrenci Numaraniz : 666\n",
      "Ders 1 : Matematik\n",
      "Matematik Dersi Vize Puani: 67\n",
      "Matematik Dersi Final Puani: 78\n",
      "Ders 2 : Turkce\n",
      "Turkce Dersi Vize Puani: 54\n",
      "Turkce Dersi Final Puani: 43\n",
      "Ders 3 : Resim\n",
      "Resim Dersi Vize Puani: 45\n",
      "Resim Dersi Final Puani: 46\n",
      "Ders 4 : Geometri\n",
      "Geometri Dersi Vize Puani: 86\n",
      "Geometri Dersi Final Puani: 56\n",
      "------SONUCLAR------\n",
      "Matematik : GECTI\n",
      "Turkce : KALDI\n",
      "Resim : KALDI\n",
      "Geometri : GECTI\n"
     ]
    }
   ],
   "source": [
    "name = input(\"Adiniz : \")\n",
    "surname = input(\"Soyadiniz : \")\n",
    "ogrenci_no = input(\"Ogrenci Numaraniz : \")\n",
    "\n",
    "ders_1 = input(\"Ders 1 : \")\n",
    "vize_1 = int(input(\"{} Dersi Vize Puani: \".format(ders_1)))\n",
    "final_1 = int(input(\"{} Dersi Final Puani: \".format(ders_1)))\n",
    "\n",
    "ders_2 = input(\"Ders 2 : \")\n",
    "vize_2 = int(input(\"{} Dersi Vize Puani: \".format(ders_2)))\n",
    "final_2 = int(input(\"{} Dersi Final Puani: \".format(ders_2)))\n",
    "\n",
    "ders_3 = input(\"Ders 3 : \")\n",
    "vize_3 = int(input(\"{} Dersi Vize Puani: \".format(ders_3)))\n",
    "final_3 = int(input(\"{} Dersi Final Puani: \".format(ders_3)))\n",
    "\n",
    "ders_4 = input(\"Ders 4 : \")\n",
    "vize_4 = int(input(\"{} Dersi Vize Puani: \".format(ders_4)))\n",
    "final_4 = int(input(\"{} Dersi Final Puani: \".format(ders_4)))\n",
    "\n",
    "print(\"------SONUCLAR------\")\n",
    "\n",
    "if (vize_1 * 0.4 + final_1 * 0.6) < 50:\n",
    "    print (\"{} : KALDI\".format(ders_1))\n",
    "else:\n",
    "    print (\"{} : GECTI\".format(ders_1))\n",
    "\n",
    "if (vize_2 * 0.4 + final_2 * 0.6) < 50:\n",
    "    print (\"{} : KALDI\".format(ders_2))\n",
    "else:\n",
    "    print (\"{} : GECTI\".format(ders_2))\n",
    "    \n",
    "if (vize_3 * 0.4 + final_3 * 0.6) < 50:\n",
    "    print (\"{} : KALDI\".format(ders_3))\n",
    "else:\n",
    "    print (\"{} : GECTI\".format(ders_3))\n",
    "    \n",
    "if (vize_4 * 0.4 + final_4 * 0.6) < 50:\n",
    "    print (\"{} : KALDI\".format(ders_4))\n",
    "else:\n",
    "    print (\"{} : GECTI\".format(ders_4))\n"
   ]
  },
  {
   "cell_type": "markdown",
   "metadata": {},
   "source": [
    "# 3- Beden Kitle Indeksi Hesaplama\n",
    "Bir kisinin ağırlığının, boyuna göre normal olup olmadığını gösteren parametreye Beden Kitle İndeksi denir. Kısaca insanın kilosunu kişinin boy uzunluğunun karesine bölersek beden kitle indeksi ortaya çıkar. Kullanıcıdan kilo ve boy uzunluğunu alip çıkan sonuç 25'in altindaysa NORMAL, 25-30 arasında ise FAZLA KİLOLU, 30-40 arasında ise OBEZ, 40 ve üzerinde ise AŞIRI ŞİŞMAN şeklinde uyarı yazdiriniz."
   ]
  },
  {
   "cell_type": "code",
   "execution_count": 29,
   "metadata": {},
   "outputs": [
    {
     "name": "stdout",
     "output_type": "stream",
     "text": [
      "Kilonuz : 100\n",
      "Boyunuz (Lutfen metre cinsinden giriniz) : 1.75\n",
      "Beden Kitle indeksiniz : OBEZ\n"
     ]
    }
   ],
   "source": [
    "kilo = int(input(\"Kilonuz : \"))\n",
    "boy = float(input(\"Boyunuz (Lutfen metre cinsinden giriniz) : \"))\n",
    "x = kilo / (boy ** 2)\n",
    "\n",
    "if x < 25:\n",
    "    print(\" Beden Kitle indeksiniz : NORMAL\")\n",
    "elif x < 30:\n",
    "    print(\"Beden Kitle indeksiniz : FAZLA KILOLU\")\n",
    "elif x < 40:\n",
    "    print(\"Beden Kitle indeksiniz : OBEZ\")\n",
    "else:\n",
    "    print(\"Kitle indeksiniz : AŞIRI ŞİŞMAN\")"
   ]
  }
 ],
 "metadata": {
  "kernelspec": {
   "display_name": "Python 3",
   "language": "python",
   "name": "python3"
  },
  "language_info": {
   "codemirror_mode": {
    "name": "ipython",
    "version": 3
   },
   "file_extension": ".py",
   "mimetype": "text/x-python",
   "name": "python",
   "nbconvert_exporter": "python",
   "pygments_lexer": "ipython3",
   "version": "3.8.5"
  }
 },
 "nbformat": 4,
 "nbformat_minor": 4
}
